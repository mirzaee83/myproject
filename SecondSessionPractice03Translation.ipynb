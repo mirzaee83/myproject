{
 "cells": [
  {
   "cell_type": "code",
   "execution_count": 16,
   "id": "7654f9d6",
   "metadata": {},
   "outputs": [
    {
     "name": "stdout",
     "output_type": "stream",
     "text": [
      "I am an engineer in amirkabir university\n",
      "I am an engineer in amirkabir university (en) --> من مهندس دانشگاه امیرکبیر هستم (fa)\n"
     ]
    }
   ],
   "source": [
    "#Program 1\n",
    "\n",
    "#$ pip3 install googletrans==3.1.0a0 for installation\n",
    "\n",
    "from googletrans import Translator, constants\n",
    "from pprint import pprint\n",
    "\n",
    "translator = Translator()\n",
    "\n",
    "sentence = input()\n",
    "\n",
    "translation = translator.translate(sentence, dest = \"fa\")\n",
    "print(f\"{translation.origin} ({translation.src}) --> {translation.text} ({translation.dest})\")"
   ]
  },
  {
   "cell_type": "code",
   "execution_count": 10,
   "id": "4e859bb8",
   "metadata": {},
   "outputs": [
    {
     "name": "stdout",
     "output_type": "stream",
     "text": [
      "You are a very good student and will win (en) --> شما دانش آموز بسیار خوبی هستید و برنده خواهید شد (fa)\n"
     ]
    }
   ],
   "source": [
    "#$ pip3 install googletrans==3.1.0a0 for installation\n",
    "\n",
    "from googletrans import Translator, constants\n",
    "from pprint import pprint\n",
    "\n",
    "translator = Translator()\n",
    "\n",
    "translation = translator.translate(\"You are a very good student and will win\", dest=\"fa\")\n",
    "print(f\"{translation.origin} ({translation.src}) --> {translation.text} ({translation.dest})\")"
   ]
  },
  {
   "cell_type": "code",
   "execution_count": null,
   "id": "7a04695e",
   "metadata": {},
   "outputs": [],
   "source": []
  }
 ],
 "metadata": {
  "kernelspec": {
   "display_name": "Python 3",
   "language": "python",
   "name": "python3"
  },
  "language_info": {
   "codemirror_mode": {
    "name": "ipython",
    "version": 3
   },
   "file_extension": ".py",
   "mimetype": "text/x-python",
   "name": "python",
   "nbconvert_exporter": "python",
   "pygments_lexer": "ipython3",
   "version": "3.8.8"
  }
 },
 "nbformat": 4,
 "nbformat_minor": 5
}
