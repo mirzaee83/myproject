{
 "cells": [
  {
   "cell_type": "code",
   "execution_count": 104,
   "id": "ccc41057",
   "metadata": {
    "scrolled": true
   },
   "outputs": [
    {
     "name": "stdout",
     "output_type": "stream",
     "text": [
      "Enter the number of array members: 6\n",
      "----------------------------------------\n",
      "The Number we need for the array: \n",
      "----------------------------------------\n",
      "2\n",
      "1\n",
      "56\n",
      "5\n",
      "8\n",
      "7\n",
      "------------------------------------------------------------\n",
      "The main array you defined = [2, 1, 56, 5, 8, 7]\n",
      "------------------------------------------------------------\n",
      "The array after sorting would be =  [ 1  2  5  7  8 56]\n",
      "------------------------------------------------------------\n",
      "Sorted array (only prime members) = [2 5 7]\n",
      "------------------------------------------------------------\n"
     ]
    }
   ],
   "source": [
    "#Program Part 3\n",
    "\n",
    "#This part takes the numbers of an array and take the members them from user\n",
    "x = int(input('Enter the number of array members: '))\n",
    "print('-' * 40)\n",
    "\n",
    "print('The Number we need for the array: ')\n",
    "print('-' * 40)\n",
    "for i in range(1, x + 1):\n",
    "    y = int(input())\n",
    "    l.append(y)\n",
    "print('-' * 60)\n",
    "\n",
    "#This lines defines a block to check if a number is prime or not\n",
    "l = []\n",
    "def is_prime(num):\n",
    "    if num == 2:\n",
    "        l_exception.append(num)\n",
    "    for j in range(2, num):\n",
    "        if num % j == 0:\n",
    "            return 'Not Prime'\n",
    "        if j == num - 1:\n",
    "            return 'Prime'\n",
    "\n",
    "#This lines are defined to separate prime numbers in an array and sort them ascending        \n",
    "l_prime = []\n",
    "l_exception = []\n",
    "l_final = []\n",
    "for num in range(0, x):\n",
    "    if is_prime(l[num]) == 'Prime':\n",
    "        l_prime.append(l[num])\n",
    "l_final = l_prime + l_exception\n",
    "\n",
    "print('The main array you defined =', l)\n",
    "print('-'* 60)\n",
    "print('The array after sorting would be = ', np.sort(l))\n",
    "print('-'* 60)\n",
    "print('Sorted array (only prime members) =', np.sort(l_final))\n",
    "print('-'* 60)"
   ]
  },
  {
   "cell_type": "code",
   "execution_count": 13,
   "id": "69859086",
   "metadata": {
    "scrolled": true
   },
   "outputs": [
    {
     "name": "stdout",
     "output_type": "stream",
     "text": [
      "Enter a number: 4\n",
      "Enter a number to make an array: 2\n",
      "Enter a number to make an array: 8\n",
      "Enter a number to make an array: 5\n",
      "Enter a number to make an array: 0\n",
      "----------------------------------------\n",
      "The array = [2, 8, 5, 0]\n",
      "----------------------------------------\n",
      "The array after sorting would be: \n",
      "The sorted array = [0 2 5 8]\n"
     ]
    }
   ],
   "source": [
    "#Program Part 1\n",
    "\n",
    "#This part takes numbers of an array and take them from user\n",
    "\n",
    "import numpy as np\n",
    "\n",
    "x = int(input('Enter a number: '))\n",
    "l = []\n",
    "for i in range(1, x + 1):\n",
    "    y = int(input('Enter a number to make an array: '))\n",
    "    l.append(y)\n",
    "print('-' * 40)\n",
    "print('The array =', l)\n",
    "print('-'* 40)\n",
    "print('The array after sorting would be: ')\n",
    "\n",
    "#THis part will sort the array to be ascending\n",
    "print('The sorted array =',np.sort(l))"
   ]
  },
  {
   "cell_type": "code",
   "execution_count": null,
   "id": "c306cadd",
   "metadata": {},
   "outputs": [],
   "source": [
    "#Program Part 2\n",
    "\n",
    "#This box defines a block to check if a number is prime or not\n",
    "\n",
    "x = int(input('Enter the quantity: '))\n",
    "num = int(input('Enter the members of an array: '))\n",
    "\n",
    "def is_prime(num):\n",
    "    for j in range(2, num):\n",
    "        if num % j == 0:\n",
    "            return 'Not Prime'\n",
    "        if j == num - 1:\n",
    "            return 'Prime'\n",
    "        \n",
    "print(is_prime(num))       "
   ]
  }
 ],
 "metadata": {
  "kernelspec": {
   "display_name": "Python 3",
   "language": "python",
   "name": "python3"
  },
  "language_info": {
   "codemirror_mode": {
    "name": "ipython",
    "version": 3
   },
   "file_extension": ".py",
   "mimetype": "text/x-python",
   "name": "python",
   "nbconvert_exporter": "python",
   "pygments_lexer": "ipython3",
   "version": "3.8.8"
  }
 },
 "nbformat": 4,
 "nbformat_minor": 5
}
