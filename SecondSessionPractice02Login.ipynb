{
 "cells": [
  {
   "cell_type": "code",
   "execution_count": 61,
   "id": "5f1ad907",
   "metadata": {
    "scrolled": true
   },
   "outputs": [
    {
     "name": "stdout",
     "output_type": "stream",
     "text": [
      "Attempt 1\n",
      "----------\n",
      "admin1\n",
      "asddd\n",
      "------------------------------------------------------------\n",
      "The username or the password is incorrect, try again\n",
      "------------------------------------------------------------\n",
      "Attempt 2\n",
      "----------\n",
      "admin\n",
      "ddfdf\n",
      "------------------------------------------------------------\n",
      "The username or the password is incorrect, try again\n",
      "------------------------------------------------------------\n",
      "Attempt 3\n",
      "----------\n",
      "admin1\n",
      "also12345\n",
      "------------------------------------------------------------\n",
      "You are seccussfully signed in\n",
      "------------------------------------------------------------\n"
     ]
    }
   ],
   "source": [
    "#Program Part 2\n",
    "\n",
    "user = {'user': ['admin', 'admin1'], 'pass': ['12345', 'also12345']}\n",
    "\n",
    "count = 2\n",
    "j = 0\n",
    "i = 1\n",
    "state = False\n",
    "while state == False:\n",
    "    print('Attempt', i)\n",
    "    print('-' * 10)\n",
    "    user_name = input()\n",
    "    user_pass = input()\n",
    "    print('-' * 60)\n",
    "    for j in range(0, count):\n",
    "        if user_name == user['user'][j] and user_pass == user['pass'][j]:\n",
    "            state = True\n",
    "            print('You are seccussfully signed in')\n",
    "            print('-' * 60)\n",
    "            break\n",
    "    else:\n",
    "        print('The username or the password is incorrect, try again')\n",
    "        print('-' * 60)\n",
    "        j = 0\n",
    "    i = i + 1\n",
    "\n"
   ]
  },
  {
   "cell_type": "code",
   "execution_count": 14,
   "id": "295de16c",
   "metadata": {},
   "outputs": [
    {
     "name": "stdout",
     "output_type": "stream",
     "text": [
      "Attempt 1\n",
      "----------\n",
      "adm\n",
      "1111\n",
      "------------------------------------------------------------\n",
      "The username or the password is incorrect, try again\n",
      "------------------------------------------------------------\n",
      "Attempt 2\n",
      "----------\n",
      "admin\n",
      "12345\n",
      "------------------------------------------------------------\n",
      "You are seccussfully signed in\n",
      "------------------------------------------------------------\n"
     ]
    }
   ],
   "source": [
    "#Program Part 1\n",
    "\n",
    "username = 'admin'\n",
    "password = '12345'\n",
    "\n",
    "i = 1\n",
    "state = False\n",
    "while state == False:\n",
    "    print('Attempt', i)\n",
    "    print('-' * 10)\n",
    "    user_name = input()\n",
    "    user_pass = input()\n",
    "    print('-' * 60)\n",
    "    if user_name == user and user_pass == password:\n",
    "        state = True\n",
    "        print('You are seccussfully signed in')\n",
    "        print('-' * 60)\n",
    "    else:\n",
    "        print('The username or the password is incorrect, try again')\n",
    "        print('-' * 60)\n",
    "    i = i + 1"
   ]
  },
  {
   "cell_type": "code",
   "execution_count": 35,
   "id": "7c201e04",
   "metadata": {},
   "outputs": [
    {
     "name": "stdout",
     "output_type": "stream",
     "text": [
      "Attempt 1\n",
      "----------\n",
      "admin\n",
      "123\n",
      "------------------------------------------------------------\n",
      "The username or the password is incorrect, try again\n",
      "------------------------------------------------------------\n",
      "Attempt 2\n",
      "----------\n",
      "admin\n",
      "also12345\n",
      "------------------------------------------------------------\n",
      "The username or the password is incorrect, try again\n",
      "------------------------------------------------------------\n",
      "Attempt 3\n",
      "----------\n",
      "admin1\n",
      "also12345\n",
      "------------------------------------------------------------\n",
      "You are seccussfully signed in\n",
      "------------------------------------------------------------\n"
     ]
    }
   ],
   "source": [
    "#Program 2 another way\n",
    "\n",
    "user1 = {'user': 'admin', 'pass': '12345'}\n",
    "user2 = {'user': 'admin1', 'pass': 'also12345'}\n",
    "\n",
    "\n",
    "i = 1\n",
    "state = False\n",
    "while state == False:\n",
    "    print('Attempt', i)\n",
    "    print('-' * 10)\n",
    "    user_name = input()\n",
    "    user_pass = input()\n",
    "    print('-' * 60)\n",
    "    if user_name == user1['user'] and user_pass == user1['pass']:\n",
    "        state = True\n",
    "        print('You are seccussfully signed in')\n",
    "        print('-' * 60)\n",
    "    elif user_name == user2['user'] and user_pass == user2['pass']:\n",
    "        state = True\n",
    "        print('You are seccussfully signed in')\n",
    "        print('-' * 60)\n",
    "    else:\n",
    "        print('The username or the password is incorrect, try again')\n",
    "        print('-' * 60)\n",
    "    i = i + 1"
   ]
  }
 ],
 "metadata": {
  "kernelspec": {
   "display_name": "Python 3",
   "language": "python",
   "name": "python3"
  },
  "language_info": {
   "codemirror_mode": {
    "name": "ipython",
    "version": 3
   },
   "file_extension": ".py",
   "mimetype": "text/x-python",
   "name": "python",
   "nbconvert_exporter": "python",
   "pygments_lexer": "ipython3",
   "version": "3.8.8"
  }
 },
 "nbformat": 4,
 "nbformat_minor": 5
}
